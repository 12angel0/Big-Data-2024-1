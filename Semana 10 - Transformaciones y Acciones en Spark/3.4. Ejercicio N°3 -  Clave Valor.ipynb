{
 "cells": [
  {
   "cell_type": "code",
   "execution_count": 11,
   "metadata": {},
   "outputs": [
    {
     "name": "stdout",
     "output_type": "stream",
     "text": [
      "Requirement already satisfied: pyspark in c:\\users\\equipo\\anaconda3\\envs\\bigdata-2024-semana09\\lib\\site-packages (3.5.1)\n",
      "Requirement already satisfied: py4j in c:\\users\\equipo\\anaconda3\\envs\\bigdata-2024-semana09\\lib\\site-packages (0.10.9.7)\n"
     ]
    }
   ],
   "source": [
    "# Instalamos pyspark y py4j\n",
    "!pip install pyspark py4j"
   ]
  },
  {
   "cell_type": "code",
   "execution_count": 12,
   "metadata": {},
   "outputs": [],
   "source": [
    "from pyspark.sql import SparkSession\n",
    "\n",
    "Spark = SparkSession.builder.appName(\"kaic\").getOrCreate()\n",
    "SparkContext = Spark.sparkContext"
   ]
  },
  {
   "cell_type": "code",
   "execution_count": 17,
   "metadata": {},
   "outputs": [
    {
     "data": {
      "text/plain": [
       "[('(1001', ' 52.3), 10.1)'),\n",
       " ('(1005', ' 20.8), 20.7)'),\n",
       " ('(1004', ' 52.7), 20.9)'),\n",
       " ('(1002', ' 85.3)')]"
      ]
     },
     "execution_count": 17,
     "metadata": {},
     "output_type": "execute_result"
    }
   ],
   "source": [
    "# Leer el archivo de transacciones y crear un RDD clave-valor\n",
    "transacciones_rdd = SparkContext.textFile(\"transacciones\").map(lambda linea: linea.strip().split(',')).map(lambda x: (x[0], x[1]))\n",
    "\n",
    "# Reducir los valores para obtener el monto total por cada cuenta\n",
    "monto_total_por_cuenta_rdd = transacciones_rdd.reduceByKey(lambda x, y: x + \",\" + y)\n",
    "\n",
    "# Recoger y mostrar el resultado\n",
    "monto_total_por_cuenta = monto_total_por_cuenta_rdd.collect()\n",
    "monto_total_por_cuenta"
   ]
  }
 ],
 "metadata": {
  "kernelspec": {
   "display_name": "Big-Data",
   "language": "python",
   "name": "python3"
  },
  "language_info": {
   "codemirror_mode": {
    "name": "ipython",
    "version": 3
   },
   "file_extension": ".py",
   "mimetype": "text/x-python",
   "name": "python",
   "nbconvert_exporter": "python",
   "pygments_lexer": "ipython3",
   "version": "3.10.14"
  }
 },
 "nbformat": 4,
 "nbformat_minor": 2
}
