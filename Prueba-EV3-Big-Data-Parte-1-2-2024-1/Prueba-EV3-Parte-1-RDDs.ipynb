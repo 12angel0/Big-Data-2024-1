{
 "cells": [
  {
   "cell_type": "markdown",
   "id": "22bc4d93",
   "metadata": {},
   "source": [
    "# Prueba EV3 - Parte 1 - Spark RDDs\n",
    "#### Nombre y Apellido del alumno:"
   ]
  },
  {
   "cell_type": "markdown",
   "id": "c7100b10",
   "metadata": {},
   "source": [
    "### Ejercicio 1: Importa e instala lo necesario para poder trabajar con Spark RDD, lo sufiente como para que trabajes los ejercicios de tu prueba."
   ]
  },
  {
   "cell_type": "code",
   "execution_count": null,
   "id": "c9733236",
   "metadata": {},
   "outputs": [],
   "source": []
  },
  {
   "cell_type": "code",
   "execution_count": 9,
   "id": "bd8b0d7c",
   "metadata": {},
   "outputs": [],
   "source": [
    "Spark = SparkSession.builder.master(\"local[*]\").appName('Evaluacion3-Parte1-Nombre-Apellido').getOrCreate()\n",
    "SparkContext = Spark.sparkContext"
   ]
  },
  {
   "cell_type": "markdown",
   "id": "f974ac8f",
   "metadata": {},
   "source": [
    "### Ejercicio 2: Genera un RDD (pruebaRDD) con la siguiente lista [1, 2, 3, 4, 5] (1 punto)"
   ]
  },
  {
   "cell_type": "code",
   "execution_count": null,
   "id": "32ef31f0",
   "metadata": {},
   "outputs": [],
   "source": []
  },
  {
   "cell_type": "markdown",
   "id": "1c3e037e",
   "metadata": {},
   "source": [
    "### Ejercicio 3: Multiplica por 2 todos los elementos del RDD anterior (1 punto)"
   ]
  },
  {
   "cell_type": "code",
   "execution_count": null,
   "id": "bddf0e67",
   "metadata": {},
   "outputs": [],
   "source": []
  },
  {
   "cell_type": "markdown",
   "id": "b2f92c85",
   "metadata": {},
   "source": [
    "### Ejercicio 4: Filtra este RDD dado a continuación llamado myRDD obteniendo los elementos pares (1 punto)"
   ]
  },
  {
   "cell_type": "code",
   "execution_count": 10,
   "id": "a047081a",
   "metadata": {},
   "outputs": [],
   "source": [
    "data= [1, 2, 3, 4, 5, 6, 7, 8, 9, 10, 11, 12, 13, 14, 15, 16, 17, 18, 19, 20]\n",
    "\n",
    "myRDD= SparkContext.parallelize(data)"
   ]
  },
  {
   "cell_type": "code",
   "execution_count": null,
   "id": "def4e8aa",
   "metadata": {},
   "outputs": [],
   "source": []
  },
  {
   "cell_type": "markdown",
   "id": "97adeffd",
   "metadata": {},
   "source": [
    "### Ejercicio 5: Obten la suma de los valores agrupados por el key para el RDD \"myRDD_5\" (1 punto)"
   ]
  },
  {
   "cell_type": "code",
   "execution_count": 11,
   "id": "787c7986",
   "metadata": {},
   "outputs": [],
   "source": [
    "myRDD_5 = SparkContext.parallelize([('a', 1), ('a', 2), ('a', 3), ('b', 1)])"
   ]
  },
  {
   "cell_type": "code",
   "execution_count": null,
   "id": "fd7eac5f",
   "metadata": {},
   "outputs": [],
   "source": []
  },
  {
   "cell_type": "markdown",
   "id": "d80a8768",
   "metadata": {},
   "source": [
    "### Ejercicio 6: Ordena los RDDs en base al key para el RDD \"myRDD_5\""
   ]
  },
  {
   "cell_type": "code",
   "execution_count": null,
   "id": "8c7b09b3",
   "metadata": {},
   "outputs": [],
   "source": []
  },
  {
   "cell_type": "markdown",
   "id": "2be50c90",
   "metadata": {},
   "source": [
    "### Ejercicio 7: Toma los elementos del siguiente RDD para multiplicarlos entre si y obtener un resultado (1 punto)"
   ]
  },
  {
   "cell_type": "code",
   "execution_count": 13,
   "id": "bfe2d705",
   "metadata": {},
   "outputs": [],
   "source": [
    "data_7 = [1, 2, 3, 4, 5, 6, 7, 8, 9, 10, 11, 12, 13, 14, 15]\n",
    "\n",
    "myRDD_7 = SparkContext.parallelize(data_7)"
   ]
  },
  {
   "cell_type": "code",
   "execution_count": null,
   "id": "29d1b998",
   "metadata": {},
   "outputs": [],
   "source": []
  },
  {
   "cell_type": "markdown",
   "id": "32df1093",
   "metadata": {},
   "source": [
    "### Ejercicio 8: Cuenta cuantas veces aparece cada valor en el siguiente RDD (1 punto)"
   ]
  },
  {
   "cell_type": "code",
   "execution_count": 14,
   "id": "b6139be0",
   "metadata": {},
   "outputs": [],
   "source": [
    "data_8 = ['Python', 'Scala', 'Python', 'R', 'Python', 'Java', 'R' ]\n",
    "\n",
    "myRDD_8 = SparkContext.parallelize(data_8)"
   ]
  },
  {
   "cell_type": "code",
   "execution_count": null,
   "id": "b3975331",
   "metadata": {},
   "outputs": [],
   "source": []
  },
  {
   "cell_type": "markdown",
   "id": "a570e860",
   "metadata": {},
   "source": [
    "### Ejercicio 9: Cuenta cuantas veces aparece cada una de las keys del RDD a continuación: (1 punto)"
   ]
  },
  {
   "cell_type": "code",
   "execution_count": 16,
   "id": "633f7716",
   "metadata": {},
   "outputs": [],
   "source": [
    "data_9 = [('a', 1), ('b', 1), ('c', 1), ('a', 1)]\n",
    "myRDD_9 = SparkContext.parallelize(data_9)"
   ]
  },
  {
   "cell_type": "code",
   "execution_count": null,
   "id": "f0cea10a",
   "metadata": {},
   "outputs": [],
   "source": []
  }
 ],
 "metadata": {
  "kernelspec": {
   "display_name": "Python 3 (ipykernel)",
   "language": "python",
   "name": "python3"
  },
  "language_info": {
   "codemirror_mode": {
    "name": "ipython",
    "version": 3
   },
   "file_extension": ".py",
   "mimetype": "text/x-python",
   "name": "python",
   "nbconvert_exporter": "python",
   "pygments_lexer": "ipython3",
   "version": "3.8.12"
  }
 },
 "nbformat": 4,
 "nbformat_minor": 5
}
