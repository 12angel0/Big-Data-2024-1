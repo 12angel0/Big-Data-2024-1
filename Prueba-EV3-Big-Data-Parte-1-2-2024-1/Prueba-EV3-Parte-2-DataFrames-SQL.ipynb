{
 "cells": [
  {
   "cell_type": "markdown",
   "id": "e2c6ce4e",
   "metadata": {},
   "source": [
    "# Prueba EV3 - Parte 2 - Spark DataFrames y Spark SQL\n",
    "#### Nombre y Apellido del alumno"
   ]
  },
  {
   "cell_type": "markdown",
   "id": "f4b08e94",
   "metadata": {},
   "source": [
    "### Ejercicio 10: Importa e instala lo necesario para poder trabajar con Spark Dataframe y Spark SQL, lo sufiente como para que trabajes los ejercicios de tu prueba. (1 punto)"
   ]
  },
  {
   "cell_type": "code",
   "execution_count": 1,
   "id": "6444aae7",
   "metadata": {},
   "outputs": [],
   "source": []
  },
  {
   "cell_type": "code",
   "execution_count": 2,
   "id": "2a099cd1",
   "metadata": {},
   "outputs": [],
   "source": [
    "Spark = SparkSession.builder.master(\"local[*]\").appName('Evaluacion3-Parte2-Nombre-Apellido').getOrCreate()\n",
    "SparkContext = Spark.sparkContext"
   ]
  },
  {
   "cell_type": "markdown",
   "id": "fd36a241",
   "metadata": {},
   "source": [
    "### Ejercicio 11: Importa el csv de \"data/WorldCupPlayers.csv\" y Visualiza los datos (1 punto)"
   ]
  },
  {
   "cell_type": "code",
   "execution_count": null,
   "id": "1ff3f1af",
   "metadata": {},
   "outputs": [],
   "source": []
  },
  {
   "cell_type": "markdown",
   "id": "7384ab5a",
   "metadata": {},
   "source": [
    "### Ejercicio 12: ¿que tipo de datos contiene cada variable? - (Ayuda: esquema) (1 punto)"
   ]
  },
  {
   "cell_type": "code",
   "execution_count": null,
   "id": "dc1956d8",
   "metadata": {},
   "outputs": [],
   "source": []
  },
  {
   "cell_type": "markdown",
   "id": "0b6a9e31",
   "metadata": {},
   "source": [
    "### Ejercicio 13: ¿Cuantos registros hay? - (Ayuda: conteo) (1 punto)"
   ]
  },
  {
   "cell_type": "code",
   "execution_count": null,
   "id": "a9806b7c",
   "metadata": {},
   "outputs": [],
   "source": []
  },
  {
   "cell_type": "markdown",
   "id": "c9a916dc",
   "metadata": {},
   "source": [
    "### Ejercicio 14: Obtén los principales estadísticos de Position - (Ayuda: describe) (1 punto)"
   ]
  },
  {
   "cell_type": "code",
   "execution_count": null,
   "id": "e34ea92a",
   "metadata": {},
   "outputs": [],
   "source": []
  },
  {
   "cell_type": "markdown",
   "id": "d1ecba06",
   "metadata": {},
   "source": [
    "### Ejercicio 15: \"Selecciona\" y muestra los registros \"Distintos\" de 'Player Name' y'Coach Name' - (Que se muestre la fila completa, sin los puntos suspensivos, recuerda el ejercicio dejado en la primera clase de Spark) (1 punto)"
   ]
  },
  {
   "cell_type": "code",
   "execution_count": null,
   "id": "c8e9aac1",
   "metadata": {},
   "outputs": [],
   "source": []
  },
  {
   "cell_type": "markdown",
   "id": "4da02844",
   "metadata": {},
   "source": [
    "### Ejercicio 16: ¿Cuantos partidos con el ID de 1096 ha habido? - (Ayuda: filtrado) (1 punto)"
   ]
  },
  {
   "cell_type": "code",
   "execution_count": null,
   "id": "5c57d732",
   "metadata": {},
   "outputs": [],
   "source": []
  },
  {
   "cell_type": "markdown",
   "id": "668f5edc",
   "metadata": {},
   "source": [
    "### Ejercicio 17: Muestra los datos donde la posicion haya sido C y el evento sea G40 - (Ayuda: 2 filtrados con &) (2 puntos)"
   ]
  },
  {
   "cell_type": "code",
   "execution_count": null,
   "id": "bcb77e9f",
   "metadata": {},
   "outputs": [],
   "source": []
  },
  {
   "cell_type": "markdown",
   "id": "6d810e77",
   "metadata": {},
   "source": [
    "### Ejercicio 18: Utiliza Spark SQL para mostras los registros donde el MatchID sea mayor o igual a 20 - (2 puntos)"
   ]
  },
  {
   "cell_type": "code",
   "execution_count": null,
   "id": "fa84761c",
   "metadata": {},
   "outputs": [],
   "source": []
  }
 ],
 "metadata": {
  "kernelspec": {
   "display_name": "Python 3 (ipykernel)",
   "language": "python",
   "name": "python3"
  },
  "language_info": {
   "codemirror_mode": {
    "name": "ipython",
    "version": 3
   },
   "file_extension": ".py",
   "mimetype": "text/x-python",
   "name": "python",
   "nbconvert_exporter": "python",
   "pygments_lexer": "ipython3",
   "version": "3.8.12"
  }
 },
 "nbformat": 4,
 "nbformat_minor": 5
}
